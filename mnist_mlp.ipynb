{
 "cells": [
  {
   "cell_type": "code",
   "execution_count": 1,
   "id": "c63f5a7a",
   "metadata": {},
   "outputs": [],
   "source": [
    "import torch\n",
    "\n",
    "from torch import nn\n",
    "from torch.utils.data import DataLoader\n",
    "from torchvision import datasets\n",
    "from torchvision.transforms import ToTensor"
   ]
  },
  {
   "cell_type": "code",
   "execution_count": 2,
   "id": "e8c768c5",
   "metadata": {},
   "outputs": [
    {
     "data": {
      "text/plain": [
       "'1.10.1'"
      ]
     },
     "execution_count": 2,
     "metadata": {},
     "output_type": "execute_result"
    }
   ],
   "source": [
    "torch.__version__"
   ]
  },
  {
   "cell_type": "code",
   "execution_count": 3,
   "id": "ffab2273",
   "metadata": {},
   "outputs": [
    {
     "data": {
      "text/plain": [
       "True"
      ]
     },
     "execution_count": 3,
     "metadata": {},
     "output_type": "execute_result"
    }
   ],
   "source": [
    "torch.cuda.is_available()"
   ]
  },
  {
   "cell_type": "code",
   "execution_count": 4,
   "id": "1fc8b1b5",
   "metadata": {},
   "outputs": [
    {
     "data": {
      "text/plain": [
       "'NVIDIA GeForce GTX 1050 Ti'"
      ]
     },
     "execution_count": 4,
     "metadata": {},
     "output_type": "execute_result"
    }
   ],
   "source": [
    "torch.cuda.get_device_name(0)"
   ]
  },
  {
   "cell_type": "code",
   "execution_count": 5,
   "id": "3204d7ce",
   "metadata": {},
   "outputs": [],
   "source": [
    "train_data = datasets.MNIST(root=\"mnist_data\", train=True, download=True, transform=ToTensor())\n",
    "test_data = datasets.MNIST(root=\"mnist_data\", train=False, download=True, transform=ToTensor())"
   ]
  },
  {
   "cell_type": "code",
   "execution_count": 6,
   "id": "1352ad68",
   "metadata": {},
   "outputs": [],
   "source": [
    "batch_size = 64\n",
    "train_dataloader = DataLoader(train_data, batch_size=batch_size)\n",
    "test_dataloader = DataLoader(test_data, batch_size=batch_size)"
   ]
  },
  {
   "cell_type": "code",
   "execution_count": 7,
   "id": "2a7c5a00",
   "metadata": {},
   "outputs": [],
   "source": [
    "class MyModel(nn.Module):\n",
    "    def __init__(self):\n",
    "        super(MyModel, self).__init__()\n",
    "        self.flatten = nn.Flatten()\n",
    "        self.linear_relu_stack = nn.Sequential(\n",
    "            nn.Linear(28*28, 256),\n",
    "            nn.ReLU(),\n",
    "            nn.Dropout(0.2),\n",
    "            nn.Linear(256, 128),\n",
    "            nn.ReLU(),\n",
    "            nn.Dropout(0.2),\n",
    "            nn.Linear(128, 10)\n",
    "        )\n",
    "\n",
    "    def forward(self, x):\n",
    "        x = self.flatten(x)\n",
    "        logits = self.linear_relu_stack(x)\n",
    "        return logits"
   ]
  },
  {
   "cell_type": "code",
   "execution_count": 8,
   "id": "2984e01c",
   "metadata": {},
   "outputs": [],
   "source": [
    "model = MyModel().to(\"cuda\")"
   ]
  },
  {
   "cell_type": "code",
   "execution_count": 9,
   "id": "65b15813",
   "metadata": {},
   "outputs": [
    {
     "data": {
      "text/plain": [
       "MyModel(\n",
       "  (flatten): Flatten(start_dim=1, end_dim=-1)\n",
       "  (linear_relu_stack): Sequential(\n",
       "    (0): Linear(in_features=784, out_features=256, bias=True)\n",
       "    (1): ReLU()\n",
       "    (2): Dropout(p=0.2, inplace=False)\n",
       "    (3): Linear(in_features=256, out_features=128, bias=True)\n",
       "    (4): ReLU()\n",
       "    (5): Dropout(p=0.2, inplace=False)\n",
       "    (6): Linear(in_features=128, out_features=10, bias=True)\n",
       "  )\n",
       ")"
      ]
     },
     "execution_count": 9,
     "metadata": {},
     "output_type": "execute_result"
    }
   ],
   "source": [
    "model"
   ]
  },
  {
   "cell_type": "code",
   "execution_count": 10,
   "id": "02acfd96",
   "metadata": {},
   "outputs": [],
   "source": [
    "loss_fn = nn.CrossEntropyLoss()\n",
    "optimizer = torch.optim.Adam(model.parameters(), lr=1e-3)"
   ]
  },
  {
   "cell_type": "code",
   "execution_count": 11,
   "id": "485028b2",
   "metadata": {},
   "outputs": [
    {
     "name": "stdout",
     "output_type": "stream",
     "text": [
      "Epoch 1 / 10\n",
      "- loss: 2.288611  [    0/60000]\n",
      "- loss: 0.329260  [ 6400/60000]\n",
      "- loss: 0.248718  [12800/60000]\n",
      "- loss: 0.310249  [19200/60000]\n",
      "- loss: 0.237625  [25600/60000]\n",
      "- loss: 0.277929  [32000/60000]\n",
      "- loss: 0.153488  [38400/60000]\n",
      "- loss: 0.256592  [44800/60000]\n",
      "- loss: 0.251576  [51200/60000]\n",
      "- loss: 0.200421  [57600/60000]\n",
      "Epoch 2 / 10\n",
      "- loss: 0.117504  [    0/60000]\n",
      "- loss: 0.133978  [ 6400/60000]\n",
      "- loss: 0.110983  [12800/60000]\n",
      "- loss: 0.147869  [19200/60000]\n",
      "- loss: 0.147116  [25600/60000]\n",
      "- loss: 0.186856  [32000/60000]\n",
      "- loss: 0.081399  [38400/60000]\n",
      "- loss: 0.199057  [44800/60000]\n",
      "- loss: 0.175143  [51200/60000]\n",
      "- loss: 0.236885  [57600/60000]\n",
      "Epoch 3 / 10\n",
      "- loss: 0.055415  [    0/60000]\n",
      "- loss: 0.089389  [ 6400/60000]\n",
      "- loss: 0.147242  [12800/60000]\n",
      "- loss: 0.174698  [19200/60000]\n",
      "- loss: 0.125669  [25600/60000]\n",
      "- loss: 0.100329  [32000/60000]\n",
      "- loss: 0.053523  [38400/60000]\n",
      "- loss: 0.184361  [44800/60000]\n",
      "- loss: 0.144356  [51200/60000]\n",
      "- loss: 0.175748  [57600/60000]\n",
      "Epoch 4 / 10\n",
      "- loss: 0.040697  [    0/60000]\n",
      "- loss: 0.085185  [ 6400/60000]\n",
      "- loss: 0.056208  [12800/60000]\n",
      "- loss: 0.182409  [19200/60000]\n",
      "- loss: 0.064567  [25600/60000]\n",
      "- loss: 0.133778  [32000/60000]\n",
      "- loss: 0.062279  [38400/60000]\n",
      "- loss: 0.103635  [44800/60000]\n",
      "- loss: 0.128002  [51200/60000]\n",
      "- loss: 0.095476  [57600/60000]\n",
      "Epoch 5 / 10\n",
      "- loss: 0.035692  [    0/60000]\n",
      "- loss: 0.076340  [ 6400/60000]\n",
      "- loss: 0.120646  [12800/60000]\n",
      "- loss: 0.082610  [19200/60000]\n",
      "- loss: 0.060478  [25600/60000]\n",
      "- loss: 0.064242  [32000/60000]\n",
      "- loss: 0.061269  [38400/60000]\n",
      "- loss: 0.070497  [44800/60000]\n",
      "- loss: 0.123473  [51200/60000]\n",
      "- loss: 0.069038  [57600/60000]\n",
      "Epoch 6 / 10\n",
      "- loss: 0.069455  [    0/60000]\n",
      "- loss: 0.071287  [ 6400/60000]\n",
      "- loss: 0.086040  [12800/60000]\n",
      "- loss: 0.172738  [19200/60000]\n",
      "- loss: 0.030745  [25600/60000]\n",
      "- loss: 0.044233  [32000/60000]\n",
      "- loss: 0.033519  [38400/60000]\n",
      "- loss: 0.140685  [44800/60000]\n",
      "- loss: 0.077865  [51200/60000]\n",
      "- loss: 0.022024  [57600/60000]\n",
      "Epoch 7 / 10\n",
      "- loss: 0.008979  [    0/60000]\n",
      "- loss: 0.065122  [ 6400/60000]\n",
      "- loss: 0.022106  [12800/60000]\n",
      "- loss: 0.016196  [19200/60000]\n",
      "- loss: 0.009323  [25600/60000]\n",
      "- loss: 0.023268  [32000/60000]\n",
      "- loss: 0.028228  [38400/60000]\n",
      "- loss: 0.074007  [44800/60000]\n",
      "- loss: 0.128302  [51200/60000]\n",
      "- loss: 0.047629  [57600/60000]\n",
      "Epoch 8 / 10\n",
      "- loss: 0.103723  [    0/60000]\n",
      "- loss: 0.018241  [ 6400/60000]\n",
      "- loss: 0.206768  [12800/60000]\n",
      "- loss: 0.094325  [19200/60000]\n",
      "- loss: 0.068586  [25600/60000]\n",
      "- loss: 0.066668  [32000/60000]\n",
      "- loss: 0.011803  [38400/60000]\n",
      "- loss: 0.029660  [44800/60000]\n",
      "- loss: 0.146712  [51200/60000]\n",
      "- loss: 0.013409  [57600/60000]\n",
      "Epoch 9 / 10\n",
      "- loss: 0.047334  [    0/60000]\n",
      "- loss: 0.014227  [ 6400/60000]\n",
      "- loss: 0.062972  [12800/60000]\n",
      "- loss: 0.105569  [19200/60000]\n",
      "- loss: 0.019847  [25600/60000]\n",
      "- loss: 0.057658  [32000/60000]\n",
      "- loss: 0.009110  [38400/60000]\n",
      "- loss: 0.062186  [44800/60000]\n",
      "- loss: 0.143184  [51200/60000]\n",
      "- loss: 0.023438  [57600/60000]\n",
      "Epoch 10 / 10\n",
      "- loss: 0.012831  [    0/60000]\n",
      "- loss: 0.002373  [ 6400/60000]\n",
      "- loss: 0.023595  [12800/60000]\n",
      "- loss: 0.005766  [19200/60000]\n",
      "- loss: 0.095607  [25600/60000]\n",
      "- loss: 0.077955  [32000/60000]\n",
      "- loss: 0.033507  [38400/60000]\n",
      "- loss: 0.019111  [44800/60000]\n",
      "- loss: 0.068526  [51200/60000]\n",
      "- loss: 0.062150  [57600/60000]\n"
     ]
    }
   ],
   "source": [
    "n_epochs = 10\n",
    "for epoch in range(n_epochs):\n",
    "    print(f\"Epoch {epoch+1} / {n_epochs}\")\n",
    "    train_size = len(train_dataloader.dataset)\n",
    "    for batch, (X, y) in enumerate(train_dataloader):\n",
    "        X = X.to(\"cuda\")\n",
    "        y = y.to(\"cuda\")\n",
    "\n",
    "        pred = model(X)\n",
    "        loss = loss_fn(pred, y)\n",
    "\n",
    "        optimizer.zero_grad()\n",
    "        loss.backward()\n",
    "        optimizer.step()\n",
    "\n",
    "        if batch % 100 == 0:\n",
    "            loss, current_size = loss.item(), batch * batch_size\n",
    "            print(f\"- loss: {loss:>7f}  [{current_size:>5d}/{train_size:>5d}]\")"
   ]
  },
  {
   "cell_type": "code",
   "execution_count": 12,
   "id": "2852fa42",
   "metadata": {},
   "outputs": [
    {
     "name": "stdout",
     "output_type": "stream",
     "text": [
      "Test Error: \n",
      " Accuracy: 98.0%, Avg loss: 0.072547 \n",
      "\n"
     ]
    }
   ],
   "source": [
    "test_size = len(test_dataloader.dataset)\n",
    "num_batches = len(test_dataloader)\n",
    "model.eval()\n",
    "test_loss, correct = 0, 0\n",
    "\n",
    "with torch.no_grad():\n",
    "    for X, y in test_dataloader:\n",
    "        X = X.to(\"cuda\")\n",
    "        y = y.to(\"cuda\")\n",
    "\n",
    "        pred = model(X)\n",
    "        test_loss += loss_fn(pred, y).item()\n",
    "        correct += (pred.argmax(1) == y).type(torch.float).sum().item()\n",
    "\n",
    "test_loss /= num_batches\n",
    "correct /= test_size\n",
    "print(f\"Test Error: \\n Accuracy: {(100*correct):>0.1f}%, Avg loss: {test_loss:>8f} \\n\")"
   ]
  },
  {
   "cell_type": "code",
   "execution_count": 13,
   "id": "c9a2205e",
   "metadata": {},
   "outputs": [],
   "source": [
    "import matplotlib.pyplot as plt\n",
    "%matplotlib inline"
   ]
  },
  {
   "cell_type": "code",
   "execution_count": 14,
   "id": "f7becfaf",
   "metadata": {},
   "outputs": [],
   "source": [
    "img, label = test_data[0]"
   ]
  },
  {
   "cell_type": "code",
   "execution_count": 15,
   "id": "c1681615",
   "metadata": {},
   "outputs": [
    {
     "data": {
      "text/plain": [
       "<matplotlib.image.AxesImage at 0x1b6bddd4bb0>"
      ]
     },
     "execution_count": 15,
     "metadata": {},
     "output_type": "execute_result"
    },
    {
     "data": {
      "image/png": "[encoded data removed]",
      "text/plain": [
       "<Figure size 432x288 with 1 Axes>"
      ]
     },
     "metadata": {
      "needs_background": "light"
     },
     "output_type": "display_data"
    }
   ],
   "source": [
    "plt.imshow(img.squeeze(), cmap='gray')"
   ]
  },
  {
   "cell_type": "code",
   "execution_count": 16,
   "id": "22defc4b",
   "metadata": {},
   "outputs": [
    {
     "data": {
      "text/plain": [
       "7"
      ]
     },
     "execution_count": 16,
     "metadata": {},
     "output_type": "execute_result"
    }
   ],
   "source": [
    "label"
   ]
  },
  {
   "cell_type": "code",
   "execution_count": 17,
   "id": "f112d773",
   "metadata": {},
   "outputs": [],
   "source": [
    "logits = model(img.to(\"cuda\"))"
   ]
  },
  {
   "cell_type": "code",
   "execution_count": 18,
   "id": "e02e660c",
   "metadata": {},
   "outputs": [
    {
     "data": {
      "text/plain": [
       "tensor([7], device='cuda:0')"
      ]
     },
     "execution_count": 18,
     "metadata": {},
     "output_type": "execute_result"
    }
   ],
   "source": [
    "logits.argmax(1)"
   ]
  }
 ],
 "metadata": {
  "kernelspec": {
   "display_name": "Python 3",
   "language": "python",
   "name": "python3"
  },
  "language_info": {
   "codemirror_mode": {
    "name": "ipython",
    "version": 3
   },
   "file_extension": ".py",
   "mimetype": "text/x-python",
   "name": "python",
   "nbconvert_exporter": "python",
   "pygments_lexer": "ipython3",
   "version": "3.8.8"
  }
 },
 "nbformat": 4,
 "nbformat_minor": 5
}
